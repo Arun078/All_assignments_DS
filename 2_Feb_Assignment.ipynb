{
 "cells": [
  {
   "cell_type": "markdown",
   "id": "3e55f528",
   "metadata": {},
   "source": [
    "Q1 - Explain with an example each when to use a for loop and a while loop.\n",
    "\n",
    "Ans - For loop: A for loop is a control flow statement that executes code repeatedly for a particular number of iterations. In this control flow statement, the keyword used is for. The for loop is used when the number of iterations is already known.\n",
    "       Ex- n = [1, 2, 3] \n",
    "           for i in n:  \n",
    "              print(i)\n",
    "  \n",
    "  \n",
    "While loop: A loop that executes a single statement or a group of statements for the given true condition. The keyword used to represent this loop is \"while\". A \"while\" loop is used when the number of iterations is unknown. The statement repeats itself till the boolean value becomes false. In a while loop, the condition is tested at the start, also known as the pre-test loop\n",
    "        Ex-  i = 1 \n",
    "             while i < 6:  \n",
    "               print(i)\n",
    "               i += 1  \n",
    "              "
   ]
  },
  {
   "cell_type": "code",
   "execution_count": 15,
   "id": "63048ab3",
   "metadata": {},
   "outputs": [
    {
     "name": "stdout",
     "output_type": "stream",
     "text": [
      "Sum :  55\n",
      "Product : 3628800\n"
     ]
    }
   ],
   "source": [
    "#Q2 - Write a python program to print the sum and product of the first 10 natural numbers using for and while loop.\n",
    "#Ans - 2\n",
    "\n",
    "sum1 = 0\n",
    "product = 1\n",
    "for i in range(1,11):\n",
    "    sum1 = sum1 + i\n",
    "    product = product * i\n",
    "print(\"Sum : \",sum1)\n",
    "print(\"Product :\",product)"
   ]
  },
  {
   "cell_type": "code",
   "execution_count": 17,
   "id": "a5a4a27a",
   "metadata": {},
   "outputs": [
    {
     "name": "stdout",
     "output_type": "stream",
     "text": [
      "2250.0\n"
     ]
    }
   ],
   "source": [
    "#Ans-3\n",
    "\n",
    "units = 310;\n",
    "if (units <= 100):\n",
    "\n",
    "    print( units * 4.5)\n",
    "\n",
    "elif (units <= 200):\n",
    "\n",
    "    print(((100 * 4.5) +\n",
    "            (units - 100) * 6))\n",
    "\n",
    "elif (units <= 300):\n",
    "\n",
    "    print(((100 * 4.5) +\n",
    "            (100 * 6) +\n",
    "            (units - 200) * 10))\n",
    "\n",
    "elif (units > 300):\n",
    "\n",
    "    print(((100 * 4.5) +\n",
    "            (100 * 6) +\n",
    "            (100 * 10) +\n",
    "            (units - 300) * 20))\n",
    "    "
   ]
  },
  {
   "cell_type": "code",
   "execution_count": 63,
   "id": "c03d5f51",
   "metadata": {},
   "outputs": [
    {
     "name": "stdout",
     "output_type": "stream",
     "text": [
      "[1000, 8000, 27000, 64000, 125000, 216000, 343000, 512000, 729000]\n"
     ]
    }
   ],
   "source": [
    "#Ans - 4\n",
    "\n",
    "res = []\n",
    "for i in range(1,100):\n",
    "    if (i*i*i) % 4 == 0 and (i*i*i) % 5 == 0:\n",
    "        res.append(i*i*i)\n",
    "print(res)"
   ]
  },
  {
   "cell_type": "code",
   "execution_count": 59,
   "id": "aff165fb",
   "metadata": {},
   "outputs": [
    {
     "name": "stdout",
     "output_type": "stream",
     "text": [
      "Count Of Vowels : 12\n"
     ]
    }
   ],
   "source": [
    "#Ans - 5\n",
    "count_vowels = 0\n",
    "s = \"I want to become a data scientist\"\n",
    "for i in s:\n",
    "    if (i == 'a' or i == 'e' or i == 'i' or i == 'o' or i == 'u' or i == 'A' or i == 'E' or i == 'I' or i == 'O' or i == 'U'):\n",
    "        count_vowels = count_vowels + 1\n",
    "print('Count Of Vowels :',count_vowels)       "
   ]
  },
  {
   "cell_type": "code",
   "execution_count": null,
   "id": "e2743ade",
   "metadata": {},
   "outputs": [],
   "source": []
  }
 ],
 "metadata": {
  "kernelspec": {
   "display_name": "Python 3 (ipykernel)",
   "language": "python",
   "name": "python3"
  },
  "language_info": {
   "codemirror_mode": {
    "name": "ipython",
    "version": 3
   },
   "file_extension": ".py",
   "mimetype": "text/x-python",
   "name": "python",
   "nbconvert_exporter": "python",
   "pygments_lexer": "ipython3",
   "version": "3.9.7"
  }
 },
 "nbformat": 4,
 "nbformat_minor": 5
}
