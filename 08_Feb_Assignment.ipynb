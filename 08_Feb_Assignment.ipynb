{
 "cells": [
  {
   "cell_type": "code",
   "execution_count": 33,
   "id": "8e2d3ddb",
   "metadata": {},
   "outputs": [
    {
     "name": "stdout",
     "output_type": "stream",
     "text": [
      "The mileage is 25kmph \n",
      "The mileage is 24kmph \n"
     ]
    }
   ],
   "source": [
    "#Q1 - What is Abstraction in OOps? Explain with an example.\n",
    "\n",
    "#Ans\n",
    "# Simply said, abstraction \"displays\" only the pertinent features of objects while \"hiding\" the unneeded specifics. For instance, when we drive a car, we are exclusively focused on driving the automobile, such as starting/stopping the car, accelerating/braking, etc.\n",
    "#Ex- \n",
    "import abc\n",
    "class Car:   \n",
    "    def mileage(self):   \n",
    "        pass  \n",
    "    \n",
    "class Suzuki(Car):   \n",
    "    def mileage(self):   \n",
    "        print(\"The mileage is 25kmph \")   \n",
    "        \n",
    "class Duster(Car):   \n",
    "     def mileage(self):   \n",
    "        print(\"The mileage is 24kmph \")   \n",
    "            \n",
    "# Driver code    \n",
    "s = Suzuki()   \n",
    "s.mileage()   \n",
    "d = Duster()   \n",
    "d.mileage()  "
   ]
  },
  {
   "cell_type": "code",
   "execution_count": 34,
   "id": "63048ab3",
   "metadata": {},
   "outputs": [
    {
     "name": "stdout",
     "output_type": "stream",
     "text": [
      "Encapsulation :\n",
      "2020\n",
      "453\n",
      "Abstration :\n",
      "this will return student details of dsm\n",
      "this will return student assginment of dsm\n"
     ]
    }
   ],
   "source": [
    "#Q2 - Differentiate between Abstraction and Encapsulation. Explain with an example.\n",
    "\n",
    "#Ans\n",
    "#Abstraction is a process of hiding the implementation details of a system from the user, and only the functional details will be available to the user end. \n",
    "#On the other hand, Encapsulation is a method of wrapping up the data and code acting on the data into a single unit.\n",
    "#Ex- Encapsulation\n",
    "class car:\n",
    "    def __init__(self , year, model, make, speed):\n",
    "        self.__year = year\n",
    "        self.__model = model\n",
    "        self.__make = make\n",
    "        self.__speed = 0\n",
    "    def set_speed(self,speed):\n",
    "        self.__speed = 0 if speed < 0 else speed\n",
    "    def get_speed(self):\n",
    "        return self.__speed\n",
    "\n",
    "c = car(2020 , \"Toyata\", \"Inova\", 20)\n",
    "c1 = c._car__year\n",
    "c.set_speed(453)\n",
    "c3 = c.get_speed()\n",
    "print('Encapsulation :')\n",
    "print(c1)\n",
    "print(c3)\n",
    "\n",
    "#Abstraction\n",
    "import abc   \n",
    "\n",
    "class test:\n",
    "    \n",
    "    @abc.abstractmethod\n",
    "    def studet_details(self):\n",
    "            pass\n",
    "        \n",
    "    @abc.abstractmethod\n",
    "    def student_assignment(self):\n",
    "            pass\n",
    "        \n",
    "    @abc.abstractmethod  \n",
    "    def student_marks(self):\n",
    "        pass\n",
    "    \n",
    "class test2:\n",
    "    def student_details(self):\n",
    "        return \"this will return student details of dsm\"\n",
    "    \n",
    "    def student_assginment(self):\n",
    "        return \"this will return student assginment of dsm\"\n",
    "    \n",
    "wb = test2()\n",
    "print('Abstration :')\n",
    "res = wb.student_details()\n",
    "print(res)\n",
    "res1 =  wb.student_assginment()\n",
    "print(res1)"
   ]
  },
  {
   "cell_type": "code",
   "execution_count": 35,
   "id": "e6a6fa15",
   "metadata": {},
   "outputs": [],
   "source": [
    "#Q3 - What is abc module in python? Why is it used?\n",
    "\n",
    "#Ans\n",
    "#The 'abc' module in the Python library provides the infrastructure for defining custom abstract base classes. Abstract class cannot be instantiated in python. An Abstract method can be call by its subclasses.\n"
   ]
  },
  {
   "cell_type": "code",
   "execution_count": 36,
   "id": "802a9f85",
   "metadata": {},
   "outputs": [
    {
     "name": "stdout",
     "output_type": "stream",
     "text": [
      "<bound method Parent.common_fn of <__main__.Child1 object at 0x000001C2E5093F70>>\n",
      "<bound method Child1.abs_fn of <__main__.Child1 object at 0x000001C2E5093F70>>\n"
     ]
    }
   ],
   "source": [
    "#Q4 - How can we achieve data abstraction?\n",
    "\n",
    "#Ans\n",
    "#Data abstraction is the reduction of a particular body of data to a simplified representation of the whole. Abstraction, in general, is the process of removing characteristics from something to reduce it to a set of essential elements.\n",
    "#Ex\n",
    "import abc\n",
    "\n",
    "class Parent:\n",
    "    def common_fn(self):\n",
    "        print('In the common method of Parent')\n",
    "        \n",
    "    @abstractmethod\n",
    "    def abs_fn(self): \n",
    "        pass\n",
    "\n",
    "class Child1(Parent):\n",
    "    def abs_fn(self):\n",
    "        print('In the abstract method of Child1')\n",
    "\n",
    "class Child2(Parent):\n",
    "    def abs_fn(self):\n",
    "        print('In the abstract method of Child2')\n",
    "\n",
    "\n",
    "c = Child1()\n",
    "c."
   ]
  },
  {
   "cell_type": "code",
   "execution_count": 39,
   "id": "aff165fb",
   "metadata": {},
   "outputs": [
    {
     "name": "stdout",
     "output_type": "stream",
     "text": [
      "Welcome to bank\n",
      "In sbi bank 5 rupees interest\n"
     ]
    }
   ],
   "source": [
    "#Q5 - Can we create an instance of an abstract class? Explain your answer.\n",
    "\n",
    "#Ans\n",
    "#Abstract classes cannot be instantiated, but they can be subclassed. When an abstract class is subclassed, the subclass usually provides implementations for all of the abstract methods in its parent class. However, if it does not, then the subclass must also be declared abstrac\n",
    "#Ex\n",
    "import abc\n",
    "class Bank:\n",
    "    \n",
    "    def bank_info(self):\n",
    "        print(\"Welcome to bank\")\n",
    "    @abstractmethod\n",
    "    def interest(self):\n",
    "        pass\n",
    "\n",
    "class SBI(Bank):\n",
    "\n",
    "    def interest(self):\n",
    "        print(\"In sbi bank 5 rupees interest\")\n",
    "\n",
    "s= SBI()\n",
    "s.bank_info ()\n",
    "s.interest()"
   ]
  },
  {
   "cell_type": "code",
   "execution_count": null,
   "id": "a4b3e7d6-3abb-4ae0-85f4-986d1c3c7981",
   "metadata": {},
   "outputs": [],
   "source": []
  }
 ],
 "metadata": {
  "kernelspec": {
   "display_name": "Python 3 (ipykernel)",
   "language": "python",
   "name": "python3"
  },
  "language_info": {
   "codemirror_mode": {
    "name": "ipython",
    "version": 3
   },
   "file_extension": ".py",
   "mimetype": "text/x-python",
   "name": "python",
   "nbconvert_exporter": "python",
   "pygments_lexer": "ipython3",
   "version": "3.10.9"
  }
 },
 "nbformat": 4,
 "nbformat_minor": 5
}
