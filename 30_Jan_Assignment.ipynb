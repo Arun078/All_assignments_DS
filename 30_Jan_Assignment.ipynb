{
 "cells": [
  {
   "cell_type": "code",
   "execution_count": 1,
   "id": "1dceabd4",
   "metadata": {},
   "outputs": [
    {
     "name": "stdout",
     "output_type": "stream",
     "text": [
      "Enter the percentage by User :78\n",
      "Grade C\n"
     ]
    }
   ],
   "source": [
    "#Ans - 1\n",
    "\n",
    "percentage = int(input(\"Enter the percentage by User :\"))\n",
    "if percentage > 90:\n",
    "    print(\"Grade A\")\n",
    "elif percentage > 80 and percentage <= 90:\n",
    "    print(\"Grade B\")\n",
    "elif percentage >= 60 and percentage <= 80:\n",
    "    print(\"Grade C\")\n",
    "else:\n",
    "    print(\"Grade D\")"
   ]
  },
  {
   "cell_type": "code",
   "execution_count": 2,
   "id": "df126f1a",
   "metadata": {},
   "outputs": [
    {
     "name": "stdout",
     "output_type": "stream",
     "text": [
      "Enter the Cost Price :78906\n",
      "Tax : 10%\n"
     ]
    }
   ],
   "source": [
    "#Ans - 2\n",
    "\n",
    "cost_price = int(input(\"Enter the Cost Price :\"))\n",
    "if cost_price > 100000:\n",
    "    print(\"Tax : 15%\")\n",
    "elif cost_price > 50000 and cost_price <= 100000:\n",
    "    print(\"Tax : 10%\")\n",
    "else:\n",
    "    print(\"Tax : 5%\")  "
   ]
  },
  {
   "cell_type": "code",
   "execution_count": 3,
   "id": "de739864",
   "metadata": {},
   "outputs": [
    {
     "name": "stdout",
     "output_type": "stream",
     "text": [
      "Enter the city :Delhi\n",
      "Red Fort\n"
     ]
    }
   ],
   "source": [
    "#Ans - 3\n",
    "\n",
    "city = input(\"Enter the city :\")\n",
    "if city == 'Delhi':\n",
    "    print(\"Red Fort\")\n",
    "elif city == 'Agra':\n",
    "    print(\"Taj Mahal\")\n",
    "elif city == 'Jaipur':\n",
    "    print(\"Jal Mahal\")\n",
    "else:\n",
    "    print(\"Not defined\")"
   ]
  },
  {
   "cell_type": "code",
   "execution_count": 4,
   "id": "222ccda6",
   "metadata": {},
   "outputs": [
    {
     "name": "stdout",
     "output_type": "stream",
     "text": [
      "Enter a number :2\n",
      "3\n",
      "6\n",
      "9\n",
      "Total number of division times : 3\n"
     ]
    }
   ],
   "source": [
    "#Q4 - Check how many times a given number can be divided by 3 before it is less than or equal to 10.\n",
    "\n",
    "n=int(input(\"Enter a number :\"))\n",
    "count = 0 \n",
    "while n<=10:\n",
    "    if n%3==0:\n",
    "        print(n)\n",
    "        count = count + 1\n",
    "    n=n+1\n",
    "print(\"Total number of division times :\",count)"
   ]
  },
  {
   "cell_type": "markdown",
   "id": "60c703ae",
   "metadata": {},
   "source": [
    "Q5 - Why and When to use While loop in Python give a detailed description with example ?\n",
    "\n",
    "Ans - While loop statements in Python are used to repeatedly execute a certain statement as long as the condition provided in the while loop statement stays true. While loops let the program control to iterate over a block of code.\n",
    "The program first evaluates the while loop condition. If it’s true, then the program enters the loop and executes the body of the while loop. It continues to execute the body of the while loop as long as the condition is true. When it is false, the program comes out of the loop and stops repeating the body of the while loop."
   ]
  },
  {
   "cell_type": "code",
   "execution_count": 5,
   "id": "3f088668",
   "metadata": {},
   "outputs": [
    {
     "name": "stdout",
     "output_type": "stream",
     "text": [
      "Enter number of rows : 5\n",
      "* \n",
      "* * \n",
      "* * * \n",
      "* * * * \n",
      "* * * * * \n",
      "Enter number of rows : 5\n",
      "* * * * * \n",
      "* * * * \n",
      "* * * \n",
      "* * \n",
      "* \n",
      "Enter number of rows : 5\n",
      "* * * * * \n",
      "  * * * * \n",
      "    * * * \n",
      "      * * \n",
      "        * \n"
     ]
    }
   ],
   "source": [
    "#Q6 - Use nested while loop to print different pattern.\n",
    "\n",
    "#1st pattern\n",
    "n = int(input('Enter number of rows : '))\n",
    " \n",
    "i = 1\n",
    "while i <= n :\n",
    "    j = 1\n",
    "    while j <= i:\n",
    "        print(\"*\", end = \" \")\n",
    "        j += 1\n",
    "    print()\n",
    "    i += 1\n",
    "    \n",
    "#2nd pattern\n",
    "n = int(input('Enter number of rows : '))\n",
    " \n",
    "i = 1\n",
    "while i <= n :\n",
    "    j = n\n",
    "    while j >= i:\n",
    "        print(\"*\", end = \" \")\n",
    "        j -= 1\n",
    "    print()\n",
    "    i += 1\n",
    "    \n",
    "#3rd pattern\n",
    "n = int(input('Enter number of rows : '))\n",
    "i = n\n",
    "while i >= 1:\n",
    "    j = n\n",
    "    while j > i:\n",
    "        # display space\n",
    "        print(' ', end=' ')\n",
    "        j -= 1\n",
    "    k = 1\n",
    "    while k <= i:\n",
    "        print('*', end=' ')\n",
    "        k += 1\n",
    "    print()\n",
    "    i -= 1\n",
    "    "
   ]
  },
  {
   "cell_type": "code",
   "execution_count": 6,
   "id": "52c2aa14",
   "metadata": {},
   "outputs": [
    {
     "name": "stdout",
     "output_type": "stream",
     "text": [
      "10\n",
      "9\n",
      "8\n",
      "7\n",
      "6\n",
      "5\n",
      "4\n",
      "3\n",
      "2\n",
      "1\n"
     ]
    }
   ],
   "source": [
    "#Q7 - Reverse a while loop to display numbers from 10 to 1 ?\n",
    "\n",
    "n = 10\n",
    "while n>0:\n",
    "    print(n)\n",
    "    n = n - 1"
   ]
  },
  {
   "cell_type": "code",
   "execution_count": null,
   "id": "7614248c",
   "metadata": {},
   "outputs": [],
   "source": []
  }
 ],
 "metadata": {
  "kernelspec": {
   "display_name": "Python 3 (ipykernel)",
   "language": "python",
   "name": "python3"
  },
  "language_info": {
   "codemirror_mode": {
    "name": "ipython",
    "version": 3
   },
   "file_extension": ".py",
   "mimetype": "text/x-python",
   "name": "python",
   "nbconvert_exporter": "python",
   "pygments_lexer": "ipython3",
   "version": "3.9.7"
  }
 },
 "nbformat": 4,
 "nbformat_minor": 5
}
