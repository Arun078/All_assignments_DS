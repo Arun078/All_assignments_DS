{
 "cells": [
  {
   "cell_type": "code",
   "execution_count": 22,
   "id": "8e2d3ddb",
   "metadata": {},
   "outputs": [
    {
     "name": "stdout",
     "output_type": "stream",
     "text": [
      "name_list : [('Virat Kohli', 24936), ('Jack Kallis', 25534), ('Ricky Ponting', 27483), ('Sachin Tendulkar', 34357)]\n"
     ]
    }
   ],
   "source": [
    "#Q1 - Create a python program to sort the given list of tuples based on integer value using a lambda function.\n",
    "\n",
    "name_list = [('Sachin Tendulkar', 34357), ('Ricky Ponting', 27483), ('Jack Kallis', 25534), ('Virat Kohli', 24936)]\n",
    "name_list.sort(key = lambda x: x[1])\n",
    "print(\"name_list :\",name_list)"
   ]
  },
  {
   "cell_type": "code",
   "execution_count": 23,
   "id": "63048ab3",
   "metadata": {},
   "outputs": [
    {
     "name": "stdout",
     "output_type": "stream",
     "text": [
      "sq_result_list : [1, 4, 9, 16, 25, 36, 49, 64, 81, 100]\n"
     ]
    }
   ],
   "source": [
    "#Q2 - Write a Python Program to find the squares of all the numbers in the given list of integers using lambda and map functions.\n",
    "\n",
    "square_list = [1, 2, 3, 4, 5, 6, 7, 8, 9, 10]\n",
    "sq_result_list = list(map(lambda x: x*x ,square_list))\n",
    "print(\"sq_result_list :\", sq_result_list)"
   ]
  },
  {
   "cell_type": "code",
   "execution_count": 31,
   "id": "e6a6fa15",
   "metadata": {},
   "outputs": [
    {
     "name": "stdout",
     "output_type": "stream",
     "text": [
      "('1', '2', '3', '4', '5', '6', '7', '8', '9', '10')\n",
     
     ]
    }
   ],
   "source": [
    "#Q3 - Write a python program to convert the given list of integers into a tuple of strings. Use map and lambda functions\n",
    "\n",
    "l = [1, 2, 3, 4, 5, 6, 7, 8, 9, 10]\n",
    "t = tuple(map(lambda x: str(x) , l))\n",
    
    "\n",
    "print(t)\n",
   
   ]
  },
  {
   "cell_type": "code",
   "execution_count": 38,
   "id": "802a9f85",
   "metadata": {},
   "outputs": [
    {
     "name": "stdout",
     "output_type": "stream",
     "text": [
      "result : 15511210043330985984000000\n"
     ]
    }
   ],
   "source": [
    "#Q4 - Write a python program using reduce function to compute the product of a list containing numbers from 1 to 25.\n",
    "\n",
    "from functools import reduce\n",
    "l = [1,2,3,4,5,6,7,8,9,10,11,12,13,14,15,16,17,18,19,20,21,22,23,24,25]\n",
    "product_list = reduce(lambda x, y : x*y, l)\n",
    "print(\"result :\" ,product_list)"
   ]
  },
  {
   "cell_type": "code",
   "execution_count": 45,
   "id": "c03d5f51",
   "metadata": {},
   "outputs": [
    {
     "name": "stdout",
     "output_type": "stream",
     "text": [
      "result : [6, 60, 90, 120]\n"
     ]
    }
   ],
   "source": [
    "#Q5 -Write a python program to filter the numbers in a given list that are divisible by 2 and 3 using the filter function. \n",
    "\n",
    "l = [2, 3, 6, 9, 27, 60, 90, 120, 55, 46]\n",
    "result = list(filter(lambda x :  x%2 == 0 and x%3 == 0 , l))\n",
    "print(\"result :\", result)"
   ]
  },
  {
   "cell_type": "code",
   "execution_count": 54,
   "id": "aff165fb",
   "metadata": {},
   "outputs": [
    {
     "name": "stdout",
     "output_type": "stream",
     "text": [
      "result_list : ['php', 'aba', 'radar', 'level']\n"
     ]
    }
   ],
   "source": [
    "#Q6 - Write a python program to find palindromes in the given list of strings using lambda and filter function.\n",
    "\n",
    "str_list = ['python', 'php', 'aba', 'radar', 'level']\n",
    "\n",
    "result_list= list(filter(lambda x: x.upper() == x[::-1].upper(),l)) \n",
    "\n",
    "print(\"result_list :\", result_list)"
   ]
  },
  {
   "cell_type": "code",
   "execution_count": null,
   "id": "a4b3e7d6-3abb-4ae0-85f4-986d1c3c7981",
   "metadata": {},
   "outputs": [],
   "source": []
  }
 ],
 "metadata": {
  "kernelspec": {
   "display_name": "Python 3 (ipykernel)",
   "language": "python",
   "name": "python3"
  },
  "language_info": {
   "codemirror_mode": {
    "name": "ipython",
    "version": 3
   },
   "file_extension": ".py",
   "mimetype": "text/x-python",
   "name": "python",
   "nbconvert_exporter": "python",
   "pygments_lexer": "ipython3",
   "version": "3.10.9"
  }
 },
 "nbformat": 4,
 "nbformat_minor": 5
}
