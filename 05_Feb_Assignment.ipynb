{
 "cells": [
  {
   "cell_type": "code",
   "execution_count": 56,
   "id": "8e2d3ddb",
   "metadata": {},
   "outputs": [],
   "source": [
    "#Q1 - Explain Class and Object with respect to Object-Oriented Programming. Give a suitable example.\n",
    "\n",
    "#Ans\n",
    "# Object − Objects have states and behaviors. Example: A dog has states - color, name, breed as well as behaviors – wagging the tail, barking, eating. An object is an instance of a class. \n",
    "# Class − A class can be defined as a template/blueprint that describes the behavior/state that the object of its type support."
   ]
  },
  {
   "cell_type": "code",
   "execution_count": 65,
   "id": "63048ab3",
   "metadata": {},
   "outputs": [],
   "source": [
    "#Q2 - Write a Python Program to find the squares of all the numbers in the given list of integers using lambda and map functions.\n",
    "\n",
    "#Ans\n",
    "\n",
    "# Polymorphism\n",
    "# Encapsulation\n",
    "# Inheritance\n",
    "# Abstraction"
   ]
  },
  {
   "cell_type": "code",
   "execution_count": 66,
   "id": "e6a6fa15",
   "metadata": {},
   "outputs": [
    {
     "name": "stdout",
     "output_type": "stream",
     "text": [
      "Car Name : BBT\n",
      "Car Model Number : BBTX01\n"
     ]
    }
   ],
   "source": [
    "#Q3 - Explain why the __init__() function is used. Give a suitable example.\n",
    "\n",
    "#Ans\n",
    "#The python __init__ method is declared within a class and is used to initialize the attributes of an object as soon as the object is formed. While giving the definition for an __init__(self) method, a default parameter, named ‘self’ is always passed in its argument. This self represents the object of the class itself.\n",
    "#Ex- \n",
    "class car:\n",
    "    def __init__(self, name, model_no):\n",
    "        self.name = name\n",
    "        self.model_no = model_no\n",
    "        \n",
    "    def car_details(self):\n",
    "        print(\"Car Name :\", self.name)\n",
    "        print(\"Car Model Number :\", self.model_no)\n",
    "        \n",
    "car_obj = car(\"BBT\" , \"BBTX01\")\n",
    "car_obj.car_details()"
   ]
  },
  {
   "cell_type": "code",
   "execution_count": 67,
   "id": "802a9f85",
   "metadata": {},
   "outputs": [],
   "source": [
    "#Q4 - Why self is used in OOPs?\n",
    "\n",
    "#Ans\n",
    "\n",
    "#Self stands for a class instance. With the use of this practical keyword, you may access a specified class's variables, attributes, and methods in Python. It is not required to call the self parameter \"self\" as it might have any other name."
   ]
  },
  {
   "cell_type": "code",
   "execution_count": 54,
   "id": "aff165fb",
   "metadata": {},
   "outputs": [
    {
     "name": "stdout",
     "output_type": "stream",
     "text": [
      "result_list : ['php', 'aba', 'radar', 'level']\n"
     ]
    }
   ],
   "source": [
    "#Q5 - What is inheritance? Give an example for each type of inheritance.\n",
    "\n",
    "#Ans"
   ]
  },
  {
   "cell_type": "code",
   "execution_count": null,
   "id": "a4b3e7d6-3abb-4ae0-85f4-986d1c3c7981",
   "metadata": {},
   "outputs": [],
   "source": []
  }
 ],
 "metadata": {
  "kernelspec": {
   "display_name": "Python 3 (ipykernel)",
   "language": "python",
   "name": "python3"
  },
  "language_info": {
   "codemirror_mode": {
    "name": "ipython",
    "version": 3
   },
   "file_extension": ".py",
   "mimetype": "text/x-python",
   "name": "python",
   "nbconvert_exporter": "python",
   "pygments_lexer": "ipython3",
   "version": "3.10.9"
  }
 },
 "nbformat": 4,
 "nbformat_minor": 5
}
