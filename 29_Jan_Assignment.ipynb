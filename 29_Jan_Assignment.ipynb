{
 "cells": [
  {
   "cell_type": "markdown",
   "id": "28ed2c14",
   "metadata": {},
   "source": [
    "Q1 - Who developed Python programming langauge ?\n",
    "\n",
    "Ans - Guido van Rossum"
   ]
  },
  {
   "cell_type": "markdown",
   "id": "1a8bc2fa",
   "metadata": {},
   "source": [
    "Q2 - Which type of programming does Python support ?\n",
    "\n",
    "Ans - Object-oriented programming and structured programming\n",
    "\n",
    "Q3 - Is Python case sensitive when dealing with identifiers ?\n",
    "\n",
    "Ans - Yes, Python is a case-sensitive language, which means that it treats uppercase and lowercase characters differently. This also applies to identifiers. When naming identifiers, you must refrain from utilising the same name in several circumstances."
   ]
  },
  {
   "cell_type": "markdown",
   "id": "a49d929e",
   "metadata": {},
   "source": [
    "Q4 - What is the correct extension of the Python file ? \n",
    "\n",
    "Ans - The extension for Python is (.py)\n",
    "\n",
    "Q5 - Is Python code compiled or interpreted ?\n",
    "\n",
    "Ans - Python is a general-purpose, high-level programming language that is interpreted."
   ]
  },
  {
   "cell_type": "markdown",
   "id": "2676ab57",
   "metadata": {},
   "source": [
    "Q6 - Name a few blocks of code used to define in Python language ?\n",
    "\n",
    "Ans - A block of code in Python is designated via indentation."
   ]
  },
  {
   "cell_type": "markdown",
   "id": "e3429a90",
   "metadata": {},
   "source": [
    "Q7 - State a character used to give single-line comments in Python ?\n",
    "\n",
    "Ans - A single # character placed before any statement or line of code will create a single-line comment."
   ]
  },
  {
   "cell_type": "markdown",
   "id": "14deee0a",
   "metadata": {},
   "source": [
    "Q8 - Mention function Which can help us to find the version of python that we are currently working on ?\n",
    "\n",
    "Ans - The sys. version method can assist us in determining the Python version we are currently using."
   ]
  },
  {
   "cell_type": "markdown",
   "id": "b3b1079c",
   "metadata": {},
   "source": [
    "Q9 - Python supports the creation of anonymous function at runtime, using a construct called ?\n",
    "\n",
    "Ans - Python allows for the creation of nameless, runtime anonymous functions. It makes use of the \"lambda\" construction."
   ]
  },
  {
   "cell_type": "markdown",
   "id": "7e4601a8",
   "metadata": {},
   "source": [
    "Q10 - What dose pip stand for Python ?\n",
    "\n",
    "Ans - pip stands for \"preferred installer program\"."
   ]
  },
  {
   "cell_type": "markdown",
   "id": "5c4ba3c5",
   "metadata": {},
   "source": [
    "Q11 - Mention a few built-in functions in Python ?\n",
    "\n",
    "Ans - print(),type(),input(),len(),list(),tuple(),str(),int(),id(),sum(),min(),max() etc"
   ]
  },
  {
   "cell_type": "markdown",
   "id": "3dfcd7b5",
   "metadata": {},
   "source": [
    "Q12 - What is the maximum possible length of an identifier in Python ?\n",
    "\n",
    "Ans - An identifier can have a maximum length of 79 characters in Python."
   ]
  },
  {
   "cell_type": "markdown",
   "id": "bd591fb9",
   "metadata": {},
   "source": [
    "Q13 - What are the benefits of using Python ?\n",
    "\n",
    "Ans - 1.Presence of third-party modules \n",
    "      2.Extensive support libraries(NumPy for numerical calculations, Pandas for data analytics, etc.) \n",
    "      3.Open source and large active community base \n",
    "      4.Versatile, Easy to read, learn and write\n",
    "      5.User-friendly data structures \n",
    "      6.High-level language \n",
    "      7.Dynamically typed language(No need to mention data type based on the value assigned, it takes data type) \n",
    "      8.Object-Oriented and Procedural  Programming language\n",
    "      9.Portable and Interactive\n",
    "      10.Interpreted Language"
   ]
  },
  {
   "cell_type": "markdown",
   "id": "1c99ad51",
   "metadata": {},
   "source": [
    "Q14 - How is memory managed in Python ?\n",
    "\n",
    "Ans - In order to manage memory, Python uses a private heap that houses all of its objects and data structures. The Python memory manager is responsible for internal administration of this private heap."
   ]
  },
  {
   "cell_type": "markdown",
   "id": "d107b840",
   "metadata": {},
   "source": [
    "Q15 - How to install Python on Windows and set path variable ?\n",
    "\n",
    "Ans - Firslty installing Python from Python.org->Right click on My Computer ->Properties ->Advanced System setting ->Environment Variable ->New\n",
    "\n",
    "In Variable name write path and in Variable value copy path up to C://Python(i.e., path where Python is installed). Click Ok ->Ok. "
   ]
  },
  {
   "cell_type": "markdown",
   "id": "ab24b9c7",
   "metadata": {},
   "source": [
    "Q16 - Is indentation required in Python?\n",
    "\n",
    "Ans - Yes, Indentation is mandatory in python to define the blocks of statements"
   ]
  },
  {
   "cell_type": "code",
   "execution_count": null,
   "id": "f8a3936d",
   "metadata": {},
   "outputs": [],
   "source": []
  }
 ],
 "metadata": {
  "kernelspec": {
   "display_name": "Python 3 (ipykernel)",
   "language": "python",
   "name": "python3"
  },
  "language_info": {
   "codemirror_mode": {
    "name": "ipython",
    "version": 3
   },
   "file_extension": ".py",
   "mimetype": "text/x-python",
   "name": "python",
   "nbconvert_exporter": "python",
   "pygments_lexer": "ipython3",
   "version": "3.9.7"
  }
 },
 "nbformat": 4,
 "nbformat_minor": 5
}
